{
 "cells": [
  {
   "cell_type": "markdown",
   "id": "e01dba96",
   "metadata": {},
   "source": [
    "## Decorator In Python\n",
    "Decorators can be extremely useful as they allow the extension of an existing function, without any modification to the original function source code."
   ]
  },
  {
   "cell_type": "code",
   "execution_count": 1,
   "id": "0890c8e7",
   "metadata": {},
   "outputs": [],
   "source": [
    "def func_needs_decorator1():\n",
    "    print(\"I need a Decorator!\")"
   ]
  },
  {
   "cell_type": "code",
   "execution_count": 2,
   "id": "ffb692ab",
   "metadata": {},
   "outputs": [
    {
     "name": "stdout",
     "output_type": "stream",
     "text": [
      "I need a Decorator!\n"
     ]
    }
   ],
   "source": [
    "func_needs_decorator1()"
   ]
  },
  {
   "cell_type": "markdown",
   "id": "85c3ab9b",
   "metadata": {},
   "source": [
    "### Let's Create A Decorator Method!"
   ]
  },
  {
   "cell_type": "code",
   "execution_count": 3,
   "id": "45f1ebc2",
   "metadata": {},
   "outputs": [],
   "source": [
    "def new_decorator(func):\n",
    "\n",
    "    def wrap_func():\n",
    "       print(\"#####Decorator before...#######\")\n",
    "       func()\n",
    "       print(\"#####Decorator after ...#######\")\n",
    "    return wrap_func"
   ]
  },
  {
   "cell_type": "markdown",
   "id": "3573f1f4",
   "metadata": {},
   "source": [
    "### We Can Call It Like This..."
   ]
  },
  {
   "cell_type": "code",
   "execution_count": 4,
   "id": "1d49495a",
   "metadata": {},
   "outputs": [
    {
     "name": "stdout",
     "output_type": "stream",
     "text": [
      "#####Decorator before...#######\n",
      "I need a Decorator!\n",
      "#####Decorator after ...#######\n"
     ]
    }
   ],
   "source": [
    "func_needs_decorator = new_decorator(func_needs_decorator1)\n",
    "func_needs_decorator()"
   ]
  },
  {
   "cell_type": "markdown",
   "id": "4f733d8a",
   "metadata": {},
   "source": [
    "### ...But, Let's Use Anotation Instead o/"
   ]
  },
  {
   "cell_type": "code",
   "execution_count": 5,
   "id": "99af835f",
   "metadata": {},
   "outputs": [],
   "source": [
    "@new_decorator\n",
    "def func_needs_decorator2():\n",
    "    print(\"I need a Decorator!\")"
   ]
  },
  {
   "cell_type": "code",
   "execution_count": 6,
   "id": "28de8897",
   "metadata": {},
   "outputs": [
    {
     "name": "stdout",
     "output_type": "stream",
     "text": [
      "#####Decorator before...#######\n",
      "I need a Decorator!\n",
      "#####Decorator after ...#######\n"
     ]
    }
   ],
   "source": [
    "func_needs_decorator2()"
   ]
  },
  {
   "cell_type": "code",
   "execution_count": 7,
   "id": "c748914b",
   "metadata": {},
   "outputs": [
    {
     "name": "stdout",
     "output_type": "stream",
     "text": [
      "This code is Beautful, isn't it? \n",
      "That's All Folks! See You In The Next Python Series Episode o/\n"
     ]
    }
   ],
   "source": [
    "print(\"This code is Beautful, isn't it? \\nThat's All Folks! See You In The Next Python Series Episode o/\")"
   ]
  }
 ],
 "metadata": {
  "kernelspec": {
   "display_name": "Python 3 (ipykernel)",
   "language": "python",
   "name": "python3"
  },
  "language_info": {
   "codemirror_mode": {
    "name": "ipython",
    "version": 3
   },
   "file_extension": ".py",
   "mimetype": "text/x-python",
   "name": "python",
   "nbconvert_exporter": "python",
   "pygments_lexer": "ipython3",
   "version": "3.9.7"
  }
 },
 "nbformat": 4,
 "nbformat_minor": 5
}
