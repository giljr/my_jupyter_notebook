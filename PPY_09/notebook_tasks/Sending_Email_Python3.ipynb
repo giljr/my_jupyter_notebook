{
 "cells": [
  {
   "cell_type": "markdown",
   "metadata": {},
   "source": [
    "### SENDING EMAIL W/ PITHON 3\n",
    "\n",
    "To send a email we need manually:\n",
    "\n",
    " 1.  go through the steps of connecting to an email server;\n",
    " \n",
    " 2.  Confirming connection\n",
    " \n",
    " 3.  Setting a protocol\n",
    " \n",
    " 4. Sending the email message\n",
    " \n",
    "\n",
    "***smtplib*** in Python makes these steps a simple function call\n",
    "\n",
    "\n",
    "SMTP - Simple Mail Transfer Protocol Server\n",
    "\n",
    ".Gmail(App Password) - smtp.gmail.com (will need App Password)\n",
    "\n",
    ".Yahoo Mail - smtp.mail.yahoo.com\n",
    "\n",
    ".Outlook.com/Hotmail.com - smtp-mail.outlook.com\n",
    "\n",
    ".AT& - smtp.mail.att.net (Use port 465)\n",
    "\n",
    ".Verizon - smtp.verizon.net (Use port 465)\n",
    "\n",
    "***We're going to use:***\n",
    "\n",
    "SMTP server domain name: smtp.gmail.com (will need App Password)\n"
   ]
  },
  {
   "cell_type": "code",
   "execution_count": 13,
   "metadata": {},
   "outputs": [],
   "source": [
    "import smtplib"
   ]
  },
  {
   "cell_type": "code",
   "execution_count": 14,
   "metadata": {},
   "outputs": [],
   "source": [
    "smtp_object = smtplib.SMTP('smtp.gmail.com', 587) #if it doesnt work try 456 - SSL"
   ]
  },
  {
   "cell_type": "code",
   "execution_count": 15,
   "metadata": {},
   "outputs": [
    {
     "data": {
      "text/plain": [
       "(250,\n",
       " b'smtp.gmail.com at your service, [2804:14d:cc81:5676::1000]\\nSIZE 35882577\\n8BITMIME\\nSTARTTLS\\nENHANCEDSTATUSCODES\\nPIPELINING\\nCHUNKING\\nSMTPUTF8')"
      ]
     },
     "execution_count": 15,
     "metadata": {},
     "output_type": "execute_result"
    }
   ],
   "source": [
    "smtp_object.ehlo()"
   ]
  },
  {
   "cell_type": "code",
   "execution_count": 16,
   "metadata": {},
   "outputs": [
    {
     "data": {
      "text/plain": [
       "(220, b'2.0.0 Ready to start TLS')"
      ]
     },
     "execution_count": 16,
     "metadata": {},
     "output_type": "execute_result"
    }
   ],
   "source": [
    "smtp_object.starttls()"
   ]
  },
  {
   "cell_type": "code",
   "execution_count": 17,
   "metadata": {},
   "outputs": [
    {
     "name": "stdout",
     "output_type": "stream",
     "text": [
      "What is your password?: 123\n"
     ]
    },
    {
     "data": {
      "text/plain": [
       "'123'"
      ]
     },
     "execution_count": 17,
     "metadata": {},
     "output_type": "execute_result"
    }
   ],
   "source": [
    "input('What is your password?: ')"
   ]
  },
  {
   "cell_type": "markdown",
   "metadata": {},
   "source": [
    "### USE GETPASS LIB\n",
    "Instead use a clear - getpass([prompt[, stream]])\n",
    "Prompt the user for a password without echoing.\n",
    "\n",
    "https://docs.python.org/2/library/getpass.html"
   ]
  },
  {
   "cell_type": "code",
   "execution_count": 18,
   "metadata": {},
   "outputs": [],
   "source": [
    "import getpass"
   ]
  },
  {
   "cell_type": "code",
   "execution_count": 19,
   "metadata": {},
   "outputs": [
    {
     "name": "stdout",
     "output_type": "stream",
     "text": [
      "Password please: ········\n"
     ]
    }
   ],
   "source": [
    "password = getpass.getpass('Password please: ')"
   ]
  },
  {
   "cell_type": "markdown",
   "metadata": {},
   "source": [
    "https://support.google.com/accounts/answer/185833?hl=en\n",
    "\n",
    "***Sign in using App Passwords***\n",
    "An App Password is a 16-digit passcode that gives a non-Google app or device permission to access your Google Account. App Passwords can only be used with accounts that have 2-Step Verification turned on.\n",
    "\n",
    "Turn on 2-Step Verification\n",
    "With 2-Step Verification (also known as two-factor authentication), you add an extra layer of security to your account. After you set it up, you’ll sign in to your account in two steps using:\n",
    "\n",
    "Something you know (your password)\n",
    "\n",
    "Something you have (like your phone or a security key dongle)"
   ]
  },
  {
   "cell_type": "markdown",
   "metadata": {},
   "source": [
    "https://support.google.com/accounts/answer/185833?hl=en\n",
    "Create & use App Passwords\n",
    "Note: If you use 2-Step-Verification and are seeing a \"password incorrect\" error when trying to access your Google Account, an App Password may solve the problem.\n",
    "\n",
    "Go to your Google Account.\n",
    "On the left navigation panel, choose Security.\n",
    "On the \"Signing in to Google\" panel, choose App Passwords. If you don’t see this option:\n",
    "2-Step Verification is not set up for your account.\n",
    "2-Step Verification is set up for security keys only.\n",
    "Your account is through work, school, or other organization.\n",
    "You’ve turned on Advanced Protection for your account.\n",
    "At the bottom, choose Select app and choose the app you’re using.\n",
    "Choose Select device and choose the device you’re using.\n",
    "Choose Generate.\n",
    "Follow the instructions to enter the App Password. The App Password is the 16-character code in the yellow bar on your device.\n",
    "Choose Done.\n",
    "Most of the time, you’ll only have to enter an App Password once per app or device, so don’t worry about memorizing it."
   ]
  },
  {
   "cell_type": "code",
   "execution_count": 20,
   "metadata": {},
   "outputs": [
    {
     "name": "stdout",
     "output_type": "stream",
     "text": [
      "Email: ········\n",
      "Password: ········\n"
     ]
    },
    {
     "data": {
      "text/plain": [
       "(235, b'2.7.0 Accepted')"
      ]
     },
     "execution_count": 20,
     "metadata": {},
     "output_type": "execute_result"
    }
   ],
   "source": [
    "email = getpass.getpass(\"Email: \")\n",
    "password = getpass.getpass(\"Password: \")\n",
    "smtp_object.login(email, password)"
   ]
  },
  {
   "cell_type": "code",
   "execution_count": 23,
   "metadata": {},
   "outputs": [
    {
     "name": "stdout",
     "output_type": "stream",
     "text": [
      "Enter the subject line: SECOND TEST PYTHON EMAIL\n",
      "Enter the body message: hello its me! Python just rocks!\n"
     ]
    },
    {
     "data": {
      "text/plain": [
       "{}"
      ]
     },
     "execution_count": 23,
     "metadata": {},
     "output_type": "execute_result"
    }
   ],
   "source": [
    "from_address = email\n",
    "to_address = email\n",
    "subject = input(\"Enter the subject line: \")\n",
    "message = input(\"Enter the body message: \")\n",
    "msg = \"Subject: \"+subject+'\\n'+message\n",
    "\n",
    "smtp_object.sendmail(from_address, to_address, msg)"
   ]
  },
  {
   "cell_type": "code",
   "execution_count": 24,
   "metadata": {},
   "outputs": [
    {
     "data": {
      "text/plain": [
       "(221, b'2.0.0 closing connection g2sm13572739qkb.27 - gsmtp')"
      ]
     },
     "execution_count": 24,
     "metadata": {},
     "output_type": "execute_result"
    }
   ],
   "source": [
    "smtp_object.quit()"
   ]
  },
  {
   "cell_type": "code",
   "execution_count": null,
   "metadata": {},
   "outputs": [],
   "source": []
  }
 ],
 "metadata": {
  "kernelspec": {
   "display_name": "Python 3",
   "language": "python",
   "name": "python3"
  },
  "language_info": {
   "codemirror_mode": {
    "name": "ipython",
    "version": 3
   },
   "file_extension": ".py",
   "mimetype": "text/x-python",
   "name": "python",
   "nbconvert_exporter": "python",
   "pygments_lexer": "ipython3",
   "version": "3.7.6"
  }
 },
 "nbformat": 4,
 "nbformat_minor": 4
}
