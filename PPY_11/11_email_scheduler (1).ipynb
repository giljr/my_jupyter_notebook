{
 "cells": [
  {
   "cell_type": "raw",
   "id": "602ce836",
   "metadata": {},
   "source": [
    "Create an SMTP object to connect to the server.\n",
    "Log in to your account.\n",
    "Define your message header and your login credentials.\n",
    "Create a MIMEMultipart object and associate the relevant header with it - example: From:, To:, and Subject.\n",
    "Associate a message with the MIMEMultipart message object.\n",
    "Finally, send the message.\n",
    "\n",
    "references:\n",
    "https://stackoverflow.com/questions/41845518/jupyter-anaconda-load-text-file-into-python/48785326\n",
    "Official smtplib — SMTP protocol client: https://docs.python.org/3/library/smtplib.html\n",
    "  examples: https://docs.python.org/3/library/email.examples.html#email-examples\n",
    "com HTML: https://code.tutsplus.com/pt/tutorials/sending-emails-in-python-with-smtp--cms-29975\n",
    "Python: \"subject\" not shown when sending email using smtplib module: https://stackoverflow.com/questions/7232088/python-subject-not-shown-when-sending-email-using-smtplib-module\n",
    "Jupyter Anaconda: load text file into python: https://stackoverflow.com/questions/41845518/jupyter-anaconda-load-text-file-into-python/48785326\n",
    "date: 10/2021\n"
   ]
  },
  {
   "cell_type": "code",
   "execution_count": 1,
   "id": "dbc74f91",
   "metadata": {},
   "outputs": [
    {
     "data": {
      "text/plain": [
       "(235, b'2.7.0 Authentication successful')"
      ]
     },
     "execution_count": 1,
     "metadata": {},
     "output_type": "execute_result"
    }
   ],
   "source": [
    "import smtplib\n",
    "\n",
    "server = smtplib.SMTP('mensager*of*your*cia', 25)\n",
    "server.starttls()\n",
    "\n",
    "server.login(\"<your_email>\", \"<your_password>\")\n",
    "\n",
    "#msg = \"Testing OFFICIAL SERVER\"\n",
    "\n",
    "#server.sendmail(\"<your_email>\", \"<other_email>\", msg)\n",
    "\n",
    "#server.quit()\n"
   ]
  },
  {
   "cell_type": "code",
   "execution_count": 4,
   "id": "53f53b32",
   "metadata": {},
   "outputs": [
    {
     "data": {
      "text/plain": [
       "(221, b'2.0.0 Bye')"
      ]
     },
     "execution_count": 4,
     "metadata": {},
     "output_type": "execute_result"
    }
   ],
   "source": [
    "server = smtplib.SMTP('mensager*of*your*cia', 25)\n",
    "from_address = '<your_email>'\n",
    "to_address='<other_email>'\n",
    "subject = 'SUBJECT GOES HERE!'\n",
    "msg = f'''\\\n",
    "From:  {from_address}\n",
    "Subject:{subject}\n",
    "\n",
    "This is a test '''\n",
    "server.sendmail(from_address ,to_address,msg)\n",
    "\n",
    "\n",
    "server.quit()"
   ]
  },
  {
   "cell_type": "code",
   "execution_count": 7,
   "id": "35a46d3f",
   "metadata": {},
   "outputs": [
    {
     "name": "stdout",
     "output_type": "stream",
     "text": [
      "TEST FROM textfile FILE\n"
     ]
    }
   ],
   "source": [
    "import os\n",
    "\n",
    "base_path = \"<path_to_read_me_file>\"\n",
    "filename = \"readme\"\n",
    "path_to_file = os.path.join(base_path, filename)\n",
    "#fd = open(path_to_file , 'r')\n",
    "\n",
    "\n",
    "# Open the file in \"read\" mode ('r') \n",
    "with open(path_to_file, 'r') as text:\n",
    "    textfile = text.read()\n",
    "    print(textfile)"
   ]
  },
  {
   "cell_type": "code",
   "execution_count": 21,
   "id": "166a3fcc",
   "metadata": {},
   "outputs": [
    {
     "name": "stdout",
     "output_type": "stream",
     "text": [
      "E-Mail enviado com sucesso!\n"
     ]
    }
   ],
   "source": [
    "# Import smtplib for the actual sending function\n",
    "import smtplib\n",
    "from datetime import datetime\n",
    "\n",
    "# Import the email modules we'll need\n",
    "from email.message import EmailMessage\n",
    "\n",
    "server = smtplib.SMTP('mensager*of*your*cia')\n",
    "\n",
    "for i, email in enumerate(admin_df['Email']):\n",
    "    Responsible = admin_df.loc[i, 'Responsible']\n",
    "    IP = admin_df.loc[i, 'IP']    \n",
    "    Intimation = admin_df.loc[i, 'Iintimation']\n",
    "    Default = admin_df.loc[i, 'Default']\n",
    "    CNPJ = admin_df.loc[i, 'CNPJ']\n",
    "\n",
    "    msg = EmailMessage()\n",
    "    body = f\"\"\"\\\n",
    "\n",
    "        À {IP} - CNPJ: {CNPJ}\n",
    "\n",
    "        {Responsavel}\n",
    "\n",
    "        Dear Administrator - DIMP (Declaration of Means of Payments) -    \n",
    "        Public Sector:\n",
    "        \n",
    "        We request the (re)transmission of DIMP files related to the\n",
    "        period(s) recorded below (month/year):\n",
    "        \n",
    "        {Default.split(';')}\n",
    "        \n",
    "        Motivations:\n",
    "        \n",
    "        EXCLUSIVELY FOR UPDATING AND UPDATING PURPOSES IN THE \n",
    "        INSTITUTIONAL DATABASE OF THIS CIA; PLEASE SEND ALL    \n",
    "        FILES WITH NORMAL PURPOSE.\n",
    "       \n",
    "        Thank you.\n",
    "        \n",
    "        Sincerely,\n",
    "        ------------------------\n",
    "        \n",
    "        <your_name>\n",
    "        <your_title>\n",
    "        <your_sector>\n",
    "        EMAIL: <your_email>\n",
    "        TEL: <your_contact>\n",
    "\n",
    "        ------------------- \"\"\"\n",
    "\n",
    "    msg.set_content(body)\n",
    "\n",
    "    # me == the sender's email address\n",
    "    # you == the recipient's email address\n",
    "    \n",
    "    msg['Subject'] = f\"Report of Omissions DA {IP} - {CNPJ} - FOR FINANCE CIA - AT - Request No. {Intimation}\"\n",
    "    msg['From'] = '<your_email>'\n",
    "    msg['To'] = email\n",
    "\n",
    "   server.quit()    \n",
    "\n",
    "   print(\"Email successfully sent!\")"
   ]
  },
  {
   "cell_type": "code",
   "execution_count": 1,
   "id": "e6bb3d52",
   "metadata": {},
   "outputs": [
    {
     "name": "stdout",
     "output_type": "stream",
     "text": [
      "That's it!\n"
     ]
    }
   ],
   "source": [
    "print(\"That's it!\")"
   ]
  }
 ],
 "metadata": {
  "kernelspec": {
   "display_name": "Python 3 (ipykernel)",
   "language": "python",
   "name": "python3"
  },
  "language_info": {
   "codemirror_mode": {
    "name": "ipython",
    "version": 3
   },
   "file_extension": ".py",
   "mimetype": "text/x-python",
   "name": "python",
   "nbconvert_exporter": "python",
   "pygments_lexer": "ipython3",
   "version": "3.9.7"
  }
 },
 "nbformat": 4,
 "nbformat_minor": 5
}
