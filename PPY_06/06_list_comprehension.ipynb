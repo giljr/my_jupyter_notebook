{
 "cells": [
  {
   "cell_type": "markdown",
   "id": "25ff8255",
   "metadata": {},
   "source": [
    "## LIST COMPREHENSION\n",
    "\n",
    "#### Index (covered topics): \n",
    "\n",
    "- How to Use List Comprehension;\n",
    "- The Difference between **FOR** and List Comprehension;\n",
    "- Using **tuples** to ensure maintenance of the order of **dependent lists**;\n",
    "- Applying List Comprehension In **Classification** Using Tuples;\n",
    "- How to **Filtering** Using **IF CONDITION** inside a List Comprehension;\n",
    "- **IF ELSE** of List Comprehension.\n",
    "- Does list comprehension always create a list in Python?"
   ]
  },
  {
   "cell_type": "markdown",
   "id": "99d38a51",
   "metadata": {},
   "source": [
    "### 1 - Suppose you want to update taxes for a product list. \n",
    "#### You have two lists, one for  prices and another for products.\n",
    "Your manager wants you to update 2019's list prices by calculating the tax to be added (30 percent tax increase):"
   ]
  },
  {
   "cell_type": "code",
   "execution_count": 1,
   "id": "76518608",
   "metadata": {},
   "outputs": [],
   "source": [
    "prd_prices_2019 = [100,150,300,5500]\n",
    "prds = ['Wine', 'Coffe Machine', 'Microwave', 'Iphone']"
   ]
  },
  {
   "cell_type": "markdown",
   "id": "beebd98c",
   "metadata": {},
   "source": [
    "#### Usual way: \n",
    "\n",
    "Using for loop (three lines)"
   ]
  },
  {
   "cell_type": "code",
   "execution_count": 2,
   "id": "3a2966ea",
   "metadata": {},
   "outputs": [],
   "source": [
    "taxes = []\n",
    "\n",
    "for price in prd_prices_2019 :\n",
    "    taxes.append(price * 0.3)\n",
    "    "
   ]
  },
  {
   "cell_type": "code",
   "execution_count": 3,
   "id": "dd7b3544",
   "metadata": {},
   "outputs": [
    {
     "name": "stdout",
     "output_type": "stream",
     "text": [
      "[30.0, 45.0, 90.0, 1650.0]\n"
     ]
    }
   ],
   "source": [
    "print(taxes)"
   ]
  },
  {
   "cell_type": "markdown",
   "id": "280f8979",
   "metadata": {},
   "source": [
    "#### One Line Way:\n",
    "Using List Comprehension (just one line)"
   ]
  },
  {
   "cell_type": "markdown",
   "id": "4ac8165d",
   "metadata": {},
   "source": [
    "##### LIST COMPREHENSION = [Expression for item in iterable]"
   ]
  },
  {
   "cell_type": "code",
   "execution_count": 4,
   "id": "a3707880",
   "metadata": {},
   "outputs": [],
   "source": [
    "taxes = [price * 0.3 for price in prd_prices_2019]\n"
   ]
  },
  {
   "cell_type": "code",
   "execution_count": 5,
   "id": "8a9f6a75",
   "metadata": {},
   "outputs": [
    {
     "data": {
      "text/plain": [
       "[30.0, 45.0, 90.0, 1650.0]"
      ]
     },
     "execution_count": 5,
     "metadata": {},
     "output_type": "execute_result"
    }
   ],
   "source": [
    "taxes"
   ]
  },
  {
   "cell_type": "markdown",
   "id": "1b203637",
   "metadata": {},
   "source": [
    "#### Reporting professionally :)\n",
    "Well, not quite actually lol:"
   ]
  },
  {
   "cell_type": "code",
   "execution_count": 6,
   "id": "e2ab369c",
   "metadata": {},
   "outputs": [],
   "source": [
    "total_before_tax = 0\n",
    "total_plus_tax = 0\n",
    "\n",
    "for price in prd_prices_2019:\n",
    "    total_before_tax += price\n",
    "    total_plus_tax +=  price * 1.3\n"
   ]
  },
  {
   "cell_type": "code",
   "execution_count": 7,
   "id": "50c62741",
   "metadata": {},
   "outputs": [
    {
     "name": "stdout",
     "output_type": "stream",
     "text": [
      "Before taxation the stock of products was worth $6050.00;\n",
      "After taxation the stock increased to $7865.00;\n",
      "The inflationary difference is $1815.00,\n",
      "which corresponds inflation of 30.00 %\n"
     ]
    }
   ],
   "source": [
    "print(f'Before taxation the stock of products was worth ${total_before_tax:.2f};\\\n",
    "\\nAfter taxation the stock increased to ${total_plus_tax:.2f};\\\n",
    "\\nThe inflationary difference is ${total_plus_tax - total_before_tax:.2f},\\\n",
    "\\nwhich corresponds inflation of {((total_plus_tax - total_before_tax)/total_before_tax)*100:.2f} %')"
   ]
  },
  {
   "cell_type": "markdown",
   "id": "c7c454f2",
   "metadata": {},
   "source": [
    "### 2 - Applying List Comprehension In Classification Using Tuples:\n",
    "\n",
    "You cannot sort lists independently, because you can ***shuffle them***, and lose sales order:/\n",
    "\n",
    "First, you need to transform them into ***tuples*** (which are immutable).\n",
    "\n",
    "Then, use ***List Comprehension*** to tell which product sells the most by ***sorting them out by values***. See below:"
   ]
  },
  {
   "cell_type": "code",
   "execution_count": 8,
   "id": "536fa547",
   "metadata": {},
   "outputs": [],
   "source": [
    "prd_value_sales_2019 = [1500, 150, 2100, 1950]\n",
    "prds = ['Wine', 'Coffee Machine', 'Microwave', 'Iphone']"
   ]
  },
  {
   "cell_type": "markdown",
   "id": "edba34e5",
   "metadata": {},
   "source": [
    "#### List of Tuples"
   ]
  },
  {
   "cell_type": "code",
   "execution_count": 9,
   "id": "56199cbb",
   "metadata": {},
   "outputs": [],
   "source": [
    "prds_n_sales_2019 = list(zip(prd_value_sales_2019, prds))"
   ]
  },
  {
   "cell_type": "code",
   "execution_count": 10,
   "id": "463dc2e9",
   "metadata": {},
   "outputs": [
    {
     "data": {
      "text/plain": [
       "[(1500, 'Wine'),\n",
       " (150, 'Coffee Machine'),\n",
       " (2100, 'Microwave'),\n",
       " (1950, 'Iphone')]"
      ]
     },
     "execution_count": 10,
     "metadata": {},
     "output_type": "execute_result"
    }
   ],
   "source": [
    "prds_n_sales_2019 "
   ]
  },
  {
   "cell_type": "markdown",
   "id": "f403f5b6",
   "metadata": {},
   "source": [
    "#### OK, now that you've frozen the ranking of each product's list, sort it out now, and finally use List Comprehension.\n",
    "Please, realize that the ***value comes first*** so that the method can sort it out by value.\n",
    "\n",
    "Now done in the reverse sortition:"
   ]
  },
  {
   "cell_type": "markdown",
   "id": "12c2fdba",
   "metadata": {},
   "source": [
    "#### Sorting in the reverse order:"
   ]
  },
  {
   "cell_type": "code",
   "execution_count": 11,
   "id": "b3c81767",
   "metadata": {},
   "outputs": [
    {
     "data": {
      "text/plain": [
       "[(2100, 'Microwave'),\n",
       " (1950, 'Iphone'),\n",
       " (1500, 'Wine'),\n",
       " (150, 'Coffee Machine')]"
      ]
     },
     "execution_count": 11,
     "metadata": {},
     "output_type": "execute_result"
    }
   ],
   "source": [
    "prds_n_sales_2019.sort(reverse = True)\n",
    "prds_n_sales_2019"
   ]
  },
  {
   "cell_type": "markdown",
   "id": "a316d33d",
   "metadata": {},
   "source": [
    "#### Using List Comprehension:"
   ]
  },
  {
   "cell_type": "code",
   "execution_count": 12,
   "id": "0c155a8e",
   "metadata": {},
   "outputs": [],
   "source": [
    "top_selling_prds_2019 = [prd for value, prd in prds_n_sales_2019]"
   ]
  },
  {
   "cell_type": "code",
   "execution_count": 13,
   "id": "730183ce",
   "metadata": {},
   "outputs": [
    {
     "name": "stdout",
     "output_type": "stream",
     "text": [
      "Here are the top-selling products: ['Microwave', 'Iphone', 'Wine', 'Coffee Machine']\n"
     ]
    }
   ],
   "source": [
    "print(f'Here are the top-selling products: {top_selling_prds_2019}')"
   ]
  },
  {
   "cell_type": "markdown",
   "id": "a37c8f49",
   "metadata": {},
   "source": [
    "### 3 - Returning a Tuple:\n",
    "We now have two consecutive years of sales (2019 and 2020) of each product inside a tuples. \n",
    "\n",
    "Solve with ***List Comprehension*** which is the top-selling for 2020:"
   ]
  },
  {
   "cell_type": "code",
   "execution_count": 14,
   "id": "d9089a38",
   "metadata": {},
   "outputs": [],
   "source": [
    "prd_value_sales_2019_2020  = [('Wine', 100, 1750), ('Coffee Machine', 150, 780), ('Microwave', 300, 178), ('Iphone', 5500, 500)]\n"
   ]
  },
  {
   "cell_type": "markdown",
   "id": "830af5ab",
   "metadata": {},
   "source": [
    "#### Usual way:\n",
    "Unpacking only the necessary information.\n",
    "\n",
    "Using for loop (three lines)"
   ]
  },
  {
   "cell_type": "code",
   "execution_count": 15,
   "id": "3b10c1c5",
   "metadata": {},
   "outputs": [],
   "source": [
    "value_sales_2020 = []\n",
    "\n",
    "for prd,sales_2019, sales_2020 in prd_value_sales_2019_2020:\n",
    "    value_sales_2020.append(sales_2020)\n",
    "    "
   ]
  },
  {
   "cell_type": "code",
   "execution_count": 16,
   "id": "11a3a019",
   "metadata": {},
   "outputs": [
    {
     "name": "stdout",
     "output_type": "stream",
     "text": [
      "[1750, 780, 178, 500]\n"
     ]
    }
   ],
   "source": [
    "print(value_sales_2020)"
   ]
  },
  {
   "cell_type": "markdown",
   "id": "5abbabb1",
   "metadata": {},
   "source": [
    "##### One Line Way:\n",
    "Using List Comprehension (just one line)\n",
    "\n",
    "LIST COMPREHENSION = [Expression for item in iterable]"
   ]
  },
  {
   "cell_type": "code",
   "execution_count": 17,
   "id": "1cfadb6b",
   "metadata": {},
   "outputs": [],
   "source": [
    "value_sales_2020 = [sales_2020 for pdr, sales_2019, sales_2020 in prd_value_sales_2019_2020 ]"
   ]
  },
  {
   "cell_type": "code",
   "execution_count": 18,
   "id": "6d7d5db0",
   "metadata": {},
   "outputs": [
    {
     "data": {
      "text/plain": [
       "[1750, 780, 178, 500]"
      ]
     },
     "execution_count": 18,
     "metadata": {},
     "output_type": "execute_result"
    }
   ],
   "source": [
    "value_sales_2020"
   ]
  },
  {
   "cell_type": "markdown",
   "id": "3cd81c98",
   "metadata": {},
   "source": [
    "#### Or returnning tuples:"
   ]
  },
  {
   "cell_type": "code",
   "execution_count": 19,
   "id": "21155b69",
   "metadata": {},
   "outputs": [],
   "source": [
    "prd_value_sales_2020 = [(sales_2020, prd) for prd, sales_2019, sales_2020 in prd_value_sales_2019_2020]"
   ]
  },
  {
   "cell_type": "code",
   "execution_count": 20,
   "id": "9ee89cdd",
   "metadata": {},
   "outputs": [
    {
     "data": {
      "text/plain": [
       "[(1750, 'Wine'), (780, 'Coffee Machine'), (178, 'Microwave'), (500, 'Iphone')]"
      ]
     },
     "execution_count": 20,
     "metadata": {},
     "output_type": "execute_result"
    }
   ],
   "source": [
    "prd_value_sales_2020"
   ]
  },
  {
   "cell_type": "code",
   "execution_count": 21,
   "id": "292b7a92",
   "metadata": {},
   "outputs": [
    {
     "data": {
      "text/plain": [
       "[(1750, 'Wine'), (780, 'Coffee Machine'), (500, 'Iphone'), (178, 'Microwave')]"
      ]
     },
     "execution_count": 21,
     "metadata": {},
     "output_type": "execute_result"
    }
   ],
   "source": [
    "prd_value_sales_2020.sort(reverse=True)\n",
    "prd_value_sales_2020"
   ]
  },
  {
   "cell_type": "markdown",
   "id": "98b7ced5",
   "metadata": {},
   "source": [
    "### 4 - Filtering Using IF CONDITION:\n",
    "#### Now return only the products that hit the company's sales target \n",
    "\n",
    "Using List Comprehension (just one line)\n",
    "\n",
    "LIST COMPREHENSION = [Expression for item in iterable **IF CONDITION**]"
   ]
  },
  {
   "cell_type": "code",
   "execution_count": 22,
   "id": "cefc43b9",
   "metadata": {},
   "outputs": [],
   "source": [
    "sales_target = 1500"
   ]
  },
  {
   "cell_type": "code",
   "execution_count": 23,
   "id": "e0d12fb4",
   "metadata": {},
   "outputs": [],
   "source": [
    "sales_2019_EXCEED_THE_GOAL = [(pdr,sales_2019) for pdr, sales_2019, sales_2020 in prd_value_sales_2019_2020 \\\n",
    "                              if sales_2019 > sales_target]"
   ]
  },
  {
   "cell_type": "code",
   "execution_count": 24,
   "id": "7c4b6b95",
   "metadata": {},
   "outputs": [
    {
     "data": {
      "text/plain": [
       "[('Iphone', 5500)]"
      ]
     },
     "execution_count": 24,
     "metadata": {},
     "output_type": "execute_result"
    }
   ],
   "source": [
    "sales_2019_EXCEED_THE_GOAL"
   ]
  },
  {
   "cell_type": "code",
   "execution_count": 25,
   "id": "4120b682",
   "metadata": {},
   "outputs": [],
   "source": [
    "sales_2020_EXCEED_THE_GOAL = [(pdr,sales_2020) for pdr, sales_2019, sales_2020 in prd_value_sales_2019_2020 \\\n",
    "                              if sales_2020 > sales_target]"
   ]
  },
  {
   "cell_type": "code",
   "execution_count": 26,
   "id": "3c20534c",
   "metadata": {},
   "outputs": [
    {
     "data": {
      "text/plain": [
       "[('Wine', 1750)]"
      ]
     },
     "execution_count": 26,
     "metadata": {},
     "output_type": "execute_result"
    }
   ],
   "source": [
    "sales_2020_EXCEED_THE_GOAL"
   ]
  },
  {
   "cell_type": "markdown",
   "id": "cc7af722",
   "metadata": {},
   "source": [
    "### 5 - IF ELSE  of List Comprehension\n",
    "\n",
    "The general syntax of list comprehension in Python with if ... else is:"
   ]
  },
  {
   "cell_type": "raw",
   "id": "32eb67e7",
   "metadata": {},
   "source": [
    "[f(x) if condition else g(x) for x in list]"
   ]
  },
  {
   "cell_type": "markdown",
   "id": "3979cfd5",
   "metadata": {},
   "source": [
    "##### The bonus(10%) goes for those who exceed sales goal$:"
   ]
  },
  {
   "cell_type": "code",
   "execution_count": 27,
   "id": "4cd55286",
   "metadata": {},
   "outputs": [],
   "source": [
    "sales_goal = 1500"
   ]
  },
  {
   "cell_type": "code",
   "execution_count": 28,
   "id": "0c630dba",
   "metadata": {},
   "outputs": [],
   "source": [
    "coworker_sales_2020  = {'John':1897, 'Newton':1175, 'Maria':1501, 'Stephany':1601}"
   ]
  },
  {
   "cell_type": "code",
   "execution_count": 29,
   "id": "86e64a31",
   "metadata": {},
   "outputs": [],
   "source": [
    "extra = []\n",
    "\n",
    "for order in coworker_sales_2020:\n",
    "    if coworker_sales_2020[order] > sales_goal:\n",
    "        extra.append(round(coworker_sales_2020[order] * 0.1))\n",
    "    else:\n",
    "        extra.append(0)"
   ]
  },
  {
   "cell_type": "code",
   "execution_count": 30,
   "id": "fe54d27a",
   "metadata": {},
   "outputs": [
    {
     "name": "stdout",
     "output_type": "stream",
     "text": [
      "[190, 0, 150, 160]\n"
     ]
    }
   ],
   "source": [
    "print(extra)"
   ]
  },
  {
   "cell_type": "markdown",
   "id": "d04d7918",
   "metadata": {},
   "source": [
    "#### By List Comprehension:"
   ]
  },
  {
   "cell_type": "code",
   "execution_count": 31,
   "id": "69bf5175",
   "metadata": {},
   "outputs": [],
   "source": [
    "extra = [round(coworker_sales_2020[order] * 0.1) if coworker_sales_2020[order] > sales_goal \\\n",
    "         else 0 for order in coworker_sales_2020]"
   ]
  },
  {
   "cell_type": "code",
   "execution_count": 32,
   "id": "343c257d",
   "metadata": {},
   "outputs": [
    {
     "name": "stdout",
     "output_type": "stream",
     "text": [
      "[190, 0, 150, 160]\n"
     ]
    }
   ],
   "source": [
    "print(extra)"
   ]
  },
  {
   "cell_type": "markdown",
   "id": "51a9984a",
   "metadata": {},
   "source": [
    "### 6 - Does list comprehension always create a list in Python?\n",
    "NO! What you probably want is a generator expression!\n",
    "\n",
    "Let us suppose you what to get the coworker who sold over 1500 and add the total - **Total_Top_3_Vendor**!\n",
    "\n",
    "Let's first remember dictionaries!"
   ]
  },
  {
   "cell_type": "code",
   "execution_count": 33,
   "id": "2b303963",
   "metadata": {},
   "outputs": [
    {
     "name": "stdout",
     "output_type": "stream",
     "text": [
      "x corresponds to 1\n",
      "y corresponds to 2\n",
      "z corresponds to 3\n"
     ]
    }
   ],
   "source": [
    "d = {'x': 1, 'y': 2, 'z': 3} \n",
    "for key in d:\n",
    "    print(key, 'corresponds to', d[key])"
   ]
  },
  {
   "cell_type": "code",
   "execution_count": 34,
   "id": "387d0677",
   "metadata": {},
   "outputs": [
    {
     "name": "stdout",
     "output_type": "stream",
     "text": [
      "['John', 'Newton', 'Maria', 'Stephany']\n",
      "[1897, 1175, 1501, 1601]\n"
     ]
    }
   ],
   "source": [
    "coworker = []\n",
    "sales = []\n",
    "\n",
    "for key in coworker_sales_2020:\n",
    "    coworker.append(key)\n",
    "    sales.append(coworker_sales_2020[key])\n",
    "    \n",
    "print(coworker)\n",
    "print(sales)"
   ]
  },
  {
   "cell_type": "markdown",
   "id": "9917b8af",
   "metadata": {},
   "source": [
    "#### Aggregation Functions (SUM) using List Comprehension:"
   ]
  },
  {
   "cell_type": "code",
   "execution_count": 35,
   "id": "aa1fe6ec",
   "metadata": {},
   "outputs": [],
   "source": [
    " Total_Top_3_Vendor = sum(sales[i] for i, vendor in enumerate(coworker) if sales[i] > sales_goal)"
   ]
  },
  {
   "cell_type": "code",
   "execution_count": 36,
   "id": "56e9c9fb",
   "metadata": {},
   "outputs": [
    {
     "name": "stdout",
     "output_type": "stream",
     "text": [
      "4999\n"
     ]
    }
   ],
   "source": [
    "print(Total_Top_3_Vendor)"
   ]
  },
  {
   "cell_type": "code",
   "execution_count": 37,
   "id": "3498540f",
   "metadata": {},
   "outputs": [
    {
     "name": "stdout",
     "output_type": "stream",
     "text": [
      "That's it! I Hope you enjoyed this post! Subscribe to the Channel. Bye!\n"
     ]
    }
   ],
   "source": [
    "print(\"That's it! I Hope you enjoyed this post! Subscribe to the Channel. Bye!\")"
   ]
  }
 ],
 "metadata": {
  "kernelspec": {
   "display_name": "Python 3",
   "language": "python",
   "name": "python3"
  },
  "language_info": {
   "codemirror_mode": {
    "name": "ipython",
    "version": 3
   },
   "file_extension": ".py",
   "mimetype": "text/x-python",
   "name": "python",
   "nbconvert_exporter": "python",
   "pygments_lexer": "ipython3",
   "version": "3.8.8"
  }
 },
 "nbformat": 4,
 "nbformat_minor": 5
}
