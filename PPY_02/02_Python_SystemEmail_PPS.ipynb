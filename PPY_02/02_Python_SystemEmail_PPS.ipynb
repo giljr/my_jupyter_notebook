{
 "cells": [
  {
   "cell_type": "markdown",
   "metadata": {
    "id": "DWJm-HoPI4Zh"
   },
   "source": [
    "# Challenge in Python: Build An Simple-Email-System (SES)\n",
    "\n",
    "### Description\n",
    "\n",
    "Let's say you work in an industry and you are responsible for the area of business intelligence.\n",
    "\n",
    "Every day, you, the team or even a program, generate a different report for each area of the company:\n",
    "- Financial\n",
    "- Logistics\n",
    "- Maintenance\n",
    "- Marketing\n",
    "- Operations\n",
    "- Production\n",
    "- Sales\n",
    "\n",
    "Each of these reports must be sent by email to the Manager of each Area.\n",
    "\n",
    "Create a program that does this automatically. The list of Managers (with their respective e-mails) and areas is in the file 'Send E-mails.xlsx'.\n",
    "\n",
    "Tip: Use the pandas read_excel to read the emails file as this will make it easier.\n",
    "\n",
    "To replicate this experiment:\n",
    "\n",
    "1 - Unzip the all_in_one.zip in a directory (python_outlook);\n",
    "2- Open the Notebook on Jupiter. Go to Anaconda's website to find out how;\n",
    "3- Configure your Outlook on your Windows;\n",
    "4 - Spin and enjoy!"
   ]
  },
  {
   "cell_type": "code",
   "execution_count": 1,
   "metadata": {},
   "outputs": [],
   "source": [
    "import win32com.client as win32\n",
    "\n",
    "outlook = win32.Dispatch('outlook.application')\n",
    "\n",
    "mail = outlook.CreateItem(0)\n",
    "mail.To = 'giljr.2009@gmail.com'\n",
    "mail.Subject = 'OUTLOOK test'\n",
    "mail.Body = '''\n",
    "Hi, \n",
    "This is a test for OUTLOOK.\n",
    "If you receive this, \n",
    "YOU ARE READY TO GO!\n",
    "'''\n",
    "mail.Send()"
   ]
  },
  {
   "cell_type": "code",
   "execution_count": 2,
   "metadata": {
    "id": "Fc4oggaQI4Zx"
   },
   "outputs": [
    {
     "name": "stdout",
     "output_type": "stream",
     "text": [
      "<class 'pandas.core.frame.DataFrame'>\n",
      "RangeIndex: 7 entries, 0 to 6\n",
      "Data columns (total 4 columns):\n",
      " #   Column         Non-Null Count  Dtype \n",
      "---  ------         --------------  ----- \n",
      " 0   Administrator  7 non-null      object\n",
      " 1   E-mail         7 non-null      object\n",
      " 2   Report         7 non-null      object\n",
      " 3   Files          7 non-null      object\n",
      "dtypes: object(4)\n",
      "memory usage: 352.0+ bytes\n"
     ]
    }
   ],
   "source": [
    "import pandas as pd\n",
    "admin_df = pd.read_excel('Send_Emails_Index.xlsx')\n",
    "admin_df.info()\n"
   ]
  },
  {
   "cell_type": "code",
   "execution_count": 3,
   "metadata": {},
   "outputs": [],
   "source": [
    "for i, email in enumerate(admin_df['E-mail']):\n",
    "    admin = admin_df.loc[i, 'Administrator']\n",
    "    area = admin_df.loc[i, 'Report']\n",
    "    file = admin_df.loc[i, 'Files']\n",
    "    \n",
    "    mail = outlook.CreateItem(0)\n",
    "    mail.To = email\n",
    "    mail.Subject = '{} Report'.format(area)\n",
    "    mail.Body = '''\n",
    "    Dear {} Administrator, \n",
    "    \n",
    "    Attached is the Report of {}, as requested.\n",
    "    \n",
    "    Any doubts I am available.\n",
    "    \n",
    "    Att.,\n",
    "    \n",
    "    JayThree.\n",
    "    '''.format(admin, area)\n",
    "    attachment  = r'C:\\Users\\giljr\\Downloads\\{}.xlsx'.format(file)\n",
    "    mail.Attachments.Add(attachment)\n",
    "\n",
    "    mail.Send()"
   ]
  },
  {
   "cell_type": "code",
   "execution_count": 4,
   "metadata": {},
   "outputs": [
    {
     "name": "stdout",
     "output_type": "stream",
     "text": [
      "That's it! Thanks For reading! This post How do you automate emails in Python!\n"
     ]
    }
   ],
   "source": [
    "print(\"That's it! Thanks For reading! This post How do you automate emails in Python!\")"
   ]
  }
 ],
 "metadata": {
  "colab": {
   "collapsed_sections": [],
   "name": "02_Python_SystemEmail_PPS",
   "provenance": []
  },
  "kernelspec": {
   "display_name": "Python 3",
   "language": "python",
   "name": "python3"
  },
  "language_info": {
   "codemirror_mode": {
    "name": "ipython",
    "version": 3
   },
   "file_extension": ".py",
   "mimetype": "text/x-python",
   "name": "python",
   "nbconvert_exporter": "python",
   "pygments_lexer": "ipython3",
   "version": "3.8.8"
  }
 },
 "nbformat": 4,
 "nbformat_minor": 1
}
