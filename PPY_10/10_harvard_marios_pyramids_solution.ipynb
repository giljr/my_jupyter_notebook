{
 "cells": [
  {
   "cell_type": "markdown",
   "id": "1350a2c8",
   "metadata": {},
   "source": [
    "# A taste of Python\n",
    "## CS50 - HARVARD MARIO'S CHALLENGE IN PYTHON!"
   ]
  },
  {
   "cell_type": "markdown",
   "id": "978374a8",
   "metadata": {},
   "source": [
    "To have fun! Just that! Let's go to the amusement park and play with python.\n",
    "\n",
    "This time, I'm taking the CS50 - from Harvard University.\n",
    "\n",
    "Be welcome!\n",
    "\n",
    "Let's get started!"
   ]
  },
  {
   "cell_type": "code",
   "execution_count": 1,
   "id": "4687ecd6",
   "metadata": {},
   "outputs": [
    {
     "ename": "SyntaxError",
     "evalue": "invalid syntax (4063477634.py, line 1)",
     "output_type": "error",
     "traceback": [
      "\u001b[1;36m  Input \u001b[1;32mIn [1]\u001b[1;36m\u001b[0m\n\u001b[1;33m    for(i = 0; i < n; i++):\u001b[0m\n\u001b[1;37m          ^\u001b[0m\n\u001b[1;31mSyntaxError\u001b[0m\u001b[1;31m:\u001b[0m invalid syntax\n"
     ]
    }
   ],
   "source": [
    "for(i = 0; i < n; i++):\n",
    "    print('#')"
   ]
  },
  {
   "cell_type": "markdown",
   "id": "c8fa3417",
   "metadata": {},
   "source": [
    "\n",
    "Opps! In Python, there is not C like syntax for(i=0; i<n; i++) but you use for in n.\n",
    "\n",
    "If you want to automate a specific repetitive task or prevent yourself from writing repetitive code in your programs, using a loop is the best option for that.\n",
    "\n",
    "Loops are a set of instructions that run repeatedly until a condition is met.\n",
    "\n",
    "There are two types of loops built into Python:\n",
    "\n",
    "for loops:\n",
    "\n",
    "    for iterator in sequence:\n",
    "        execute expression\n",
    "\n",
    "while loops:\n",
    "\n",
    "    while condition:\n",
    "        execute expression"
   ]
  },
  {
   "cell_type": "code",
   "execution_count": 2,
   "id": "806f6648",
   "metadata": {
    "scrolled": true
   },
   "outputs": [
    {
     "name": "stdout",
     "output_type": "stream",
     "text": [
      "The number 10 is even\n",
      "The number 12 is even\n",
      "The number 14 is even\n",
      "The number 16 is even\n",
      "The number 18 is even\n",
      "The number 20 is even\n"
     ]
    }
   ],
   "source": [
    "for number in range(10, 21):\n",
    "    if number % 2 == 0:\n",
    "        print(\"The number\", number, \"is even\")"
   ]
  },
  {
   "cell_type": "code",
   "execution_count": 3,
   "id": "d74093ea",
   "metadata": {},
   "outputs": [
    {
     "name": "stdout",
     "output_type": "stream",
     "text": [
      "(1, 2)\n",
      "(3, 4)\n",
      "(5, 6)\n"
     ]
    }
   ],
   "source": [
    "# Tuple Unpacking\n",
    "\n",
    "x = [(1,2),(3,4),(5,6)]\n",
    "for item in x:\n",
    "  print(item)"
   ]
  },
  {
   "cell_type": "code",
   "execution_count": 4,
   "id": "1a82f5cd",
   "metadata": {},
   "outputs": [
    {
     "name": "stdout",
     "output_type": "stream",
     "text": [
      "1\n",
      "3\n",
      "5\n"
     ]
    }
   ],
   "source": [
    "for (a,b) in x:\n",
    "  print(a)"
   ]
  },
  {
   "cell_type": "code",
   "execution_count": 5,
   "id": "866f37b6",
   "metadata": {},
   "outputs": [
    {
     "name": "stdout",
     "output_type": "stream",
     "text": [
      "2 3\n",
      "4 5\n",
      "6 7\n"
     ]
    }
   ],
   "source": [
    "for a,b in x:\n",
    "  print(a+1, b+1)"
   ]
  },
  {
   "cell_type": "code",
   "execution_count": 6,
   "id": "c968ee37",
   "metadata": {},
   "outputs": [
    {
     "name": "stdout",
     "output_type": "stream",
     "text": [
      "Welcome to GeeksforGeeks "
     ]
    }
   ],
   "source": [
    "# Python end parameter in print()\n",
    "\n",
    "print(\"Welcome to\" , end = ' ')\n",
    "print(\"GeeksforGeeks\", end = ' ')\n"
   ]
  },
  {
   "cell_type": "code",
   "execution_count": 7,
   "id": "19682f1a",
   "metadata": {},
   "outputs": [
    {
     "name": "stdout",
     "output_type": "stream",
     "text": [
      "Welcome to\n",
      "GeeksforGeeks "
     ]
    }
   ],
   "source": [
    "print(\"Welcome to\")\n",
    "print(\"GeeksforGeeks\", end = ' ')"
   ]
  },
  {
   "cell_type": "markdown",
   "id": "febbde9e",
   "metadata": {},
   "source": [
    "### MARIO'S PIRAMID\n",
    "\n",
    "#### for inside for"
   ]
  },
  {
   "cell_type": "code",
   "execution_count": 8,
   "id": "ef9645d4",
   "metadata": {},
   "outputs": [
    {
     "name": "stdout",
     "output_type": "stream",
     "text": [
      "# # # # \n",
      "# # # \n",
      "# # \n",
      "# \n"
     ]
    }
   ],
   "source": [
    "# Mario's Pyramid upside down :)\n",
    "\n",
    "for i in range(0, 4):\n",
    "    for j in range(0,4-i):\n",
    "        print('#', end=\" \")\n",
    "        \n",
    "    print('')\n",
    "    \n"
   ]
  },
  {
   "cell_type": "code",
   "execution_count": 9,
   "id": "175cb808",
   "metadata": {},
   "outputs": [
    {
     "name": "stdout",
     "output_type": "stream",
     "text": [
      "# \n",
      "# # \n",
      "# # # \n",
      "# # # # \n"
     ]
    }
   ],
   "source": [
    "# Mario's Pyramid left alignment:)\n",
    "\n",
    "for i in range(0, 4):\n",
    "    for j in range(0,i+1):\n",
    "        print('#', end=\" \")\n",
    "        \n",
    "    print('')"
   ]
  },
  {
   "cell_type": "markdown",
   "id": "01fd8a32",
   "metadata": {},
   "source": [
    "#### Just while loop to ask and for to print"
   ]
  },
  {
   "cell_type": "code",
   "execution_count": 10,
   "id": "9613ebb8",
   "metadata": {},
   "outputs": [
    {
     "name": "stdout",
     "output_type": "stream",
     "text": [
      "Height:  8\n",
      "        #\n",
      "       ##\n",
      "      ###\n",
      "     ####\n",
      "    #####\n",
      "   ######\n",
      "  #######\n",
      " ########\n"
     ]
    }
   ],
   "source": [
    "# Mario's Pyramid right alignment:)\n",
    "# asks numbers between 0 and 8\n",
    "\n",
    "print('Height: ', end=' ')\n",
    "h = int(input());\n",
    "\n",
    "while(h<0 or h > 8):\n",
    "  print(\"That is an invalid input\")\n",
    "  print('Height: ', end='')\n",
    "  h = int(input())\n",
    "\n",
    "for i in range(h):\n",
    "    print(\" \"*(h-i)+\"#\"*(i+1))\n"
   ]
  },
  {
   "cell_type": "code",
   "execution_count": 11,
   "id": "16f08961",
   "metadata": {},
   "outputs": [
    {
     "name": "stdout",
     "output_type": "stream",
     "text": [
      "       #\n",
      "      ##\n",
      "     ###\n",
      "    ####\n",
      "   #####\n",
      "  ######\n",
      " #######\n",
      "########\n"
     ]
    }
   ],
   "source": [
    "for i in range(1, h + 1): # The counter's range is toyed with here\n",
    "    print(\" \" * (h - i) + \"#\" * i) # The \"i + 1\" is removed"
   ]
  },
  {
   "cell_type": "markdown",
   "id": "e41bbe43",
   "metadata": {},
   "source": [
    "#### Step by step solution:"
   ]
  },
  {
   "cell_type": "code",
   "execution_count": 12,
   "id": "cf603618",
   "metadata": {},
   "outputs": [
    {
     "name": "stdout",
     "output_type": "stream",
     "text": [
      "    \n",
      "   \n",
      "  \n",
      " \n"
     ]
    }
   ],
   "source": [
    "# Printing spaces\n",
    "h=4\n",
    "for i in range(h):\n",
    "    print(\" \"*(h-i));"
   ]
  },
  {
   "cell_type": "code",
   "execution_count": 13,
   "id": "281b2556",
   "metadata": {},
   "outputs": [
    {
     "name": "stdout",
     "output_type": "stream",
     "text": [
      "    #\n",
      "   #\n",
      "  #\n",
      " #\n"
     ]
    }
   ],
   "source": [
    "# Printing 1 hash at the end of spaces\n",
    "\n",
    "h=4\n",
    "for i in range(h):\n",
    "    print(\" \"*(h-i)+\"#\")"
   ]
  },
  {
   "cell_type": "code",
   "execution_count": 14,
   "id": "1ee04a76",
   "metadata": {},
   "outputs": [
    {
     "name": "stdout",
     "output_type": "stream",
     "text": [
      "    #\n",
      "   ##\n",
      "  ###\n",
      " ####\n"
     ]
    }
   ],
   "source": [
    "# Printing the whole Mari's Piramid\n",
    "\n",
    "h=4\n",
    "for i in range(h):\n",
    "    print(\" \"*(h-i)+\"#\"*(i+1))"
   ]
  },
  {
   "cell_type": "markdown",
   "id": "45402059",
   "metadata": {},
   "source": [
    "#### Double Pyramid:"
   ]
  },
  {
   "cell_type": "code",
   "execution_count": 15,
   "id": "c2ef5123",
   "metadata": {},
   "outputs": [
    {
     "name": "stdout",
     "output_type": "stream",
     "text": [
      "Height: 4\n",
      "    #  #\n",
      "   ##  ##\n",
      "  ###  ###\n",
      " ####  ####\n"
     ]
    }
   ],
   "source": [
    "print('Height: ', end='');\n",
    "h = int(input());\n",
    "\n",
    "while(h<0 or h > 8):\n",
    "  print(\"That is an invalid input\")\n",
    "  print('Height: ', end='');\n",
    "  h = int(input());\n",
    "\n",
    "for i in range(h):\n",
    "     print(\" \"*(h-i)+\"#\"*(i+1)+ \"  \"+\"#\"*(i+1));\n",
    "    "
   ]
  },
  {
   "cell_type": "code",
   "execution_count": 16,
   "id": "c01e822a",
   "metadata": {},
   "outputs": [
    {
     "name": "stdout",
     "output_type": "stream",
     "text": [
      "That's it, folks. This is CS50! Harvard course, man \\o/\n"
     ]
    }
   ],
   "source": [
    "print(\"That's it, folks. This is CS50! Harvard course, man \\o/\")"
   ]
  }
 ],
 "metadata": {
  "kernelspec": {
   "display_name": "Python 3 (ipykernel)",
   "language": "python",
   "name": "python3"
  },
  "language_info": {
   "codemirror_mode": {
    "name": "ipython",
    "version": 3
   },
   "file_extension": ".py",
   "mimetype": "text/x-python",
   "name": "python",
   "nbconvert_exporter": "python",
   "pygments_lexer": "ipython3",
   "version": "3.9.7"
  }
 },
 "nbformat": 4,
 "nbformat_minor": 5
}
