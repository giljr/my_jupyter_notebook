{
 "cells": [
  {
   "cell_type": "markdown",
   "id": "4a9a70ac",
   "metadata": {},
   "source": [
    "### Who determined which months would have 30 or 31 days?\n",
    "\n",
    "A leap year (also known as an intercalary year or bissextile year) is a calendar year that contains an additional day.\n",
    "\n",
    "A year that is not a leap year is a common year.\n",
    "\n",
    "In the Gregorian calendar, each leap year has 366 days instead of 365, by extending February to 29 days rather than the common 28. These extra days occur in each year which is an integer **multiple of 4 (except for years evenly divisible by 100, but not by 400)**. The leap year of 366 days has 52 weeks and two days, hence the year following a leap year will start later by two days of the week. [Wikipedia](https://en.wikipedia.org/wiki/Leap_year)\n",
    "\n",
    "\n",
    "### Why does February 29th only appear on the calendar every 4 years?\n",
    "\n",
    "\n",
    "It was the Egyptians of Alexandria who, more than 2,200 years ago, had the idea of, every four years, adding an extra day to the calendar, to make up for the remaining six hours (a rounding off from 5:48:46). It's a perfect day, which every four years appears on the sheet as the 29th of February\n",
    "\n"
   ]
  },
  {
   "cell_type": "code",
   "execution_count": 17,
   "id": "6c397c5a",
   "metadata": {},
   "outputs": [
    {
     "name": "stdout",
     "output_type": "stream",
     "text": [
      "Enter the Year: 1963\n"
     ]
    }
   ],
   "source": [
    "current_year = int(input(\"Enter the Year: \"))"
   ]
  },
  {
   "cell_type": "code",
   "execution_count": 18,
   "id": "3c90015b",
   "metadata": {},
   "outputs": [
    {
     "name": "stdout",
     "output_type": "stream",
     "text": [
      "Enter the Month: 1\n"
     ]
    }
   ],
   "source": [
    "month = int(input(\"Enter the Month: \"))"
   ]
  },
  {
   "cell_type": "code",
   "execution_count": 19,
   "id": "40d865c4",
   "metadata": {},
   "outputs": [
    {
     "name": "stdout",
     "output_type": "stream",
     "text": [
      "Year: 1963\n",
      "Month: 1\n",
      "\tNon Leap (common) Year\n",
      "\tThere are 31 days in this month\n"
     ]
    }
   ],
   "source": [
    "print(f'Year: {current_year}')\n",
    "print(f'Month: {month}')\n",
    "\n",
    "if((current_year % 4) == 0 and (current_year % 100) != 0 or (current_year % 400) == 0):\n",
    "    print(\"\\tLeap (bissextile) Year\")\n",
    "    if(month == 1 or month == 3 or month == 5 or month == 7 or month == 8 or month == 10 or month == 12):\n",
    "        print(\"\\tThere are 31 days in this month\")\n",
    "    elif(month == 4 or month == 6 or month == 9 or month == 11):\n",
    "        print(\"\\tThere are 30 days in this month\")\n",
    "    elif(month == 2):\n",
    "        print(\"\\tThere are 29 days in this month\")\n",
    "    else:\n",
    "        print(\"\\tInvalid Mouth\")\n",
    "elif((current_year % 4) != 0 or (current_year % 100) != 0 or (current_year % 400) != 0):\n",
    "    print(\"\\tNon Leap (common) Year\")\n",
    "    if(month == 1 or month == 3 or month == 5 or month == 7 or month == 8 or month == 10 or month == 12):\n",
    "        print(\"\\tThere are 31 days in this month\")\n",
    "    elif(month == 4 or month == 6 or month == 9 or month == 11):\n",
    "        print(\"\\tThere are 30 days in this month\")\n",
    "    elif(month == 2):\n",
    "        print(\"\\tThere are 28 days in this month\")\n",
    "    else:\n",
    "        print(\"\\tInvalid Mouth\")\n",
    "else:\n",
    "    print(\"\\tInvalid Year\")  \n",
    "    "
   ]
  },
  {
   "cell_type": "code",
   "execution_count": 20,
   "id": "d27f2d73",
   "metadata": {},
   "outputs": [
    {
     "name": "stdout",
     "output_type": "stream",
     "text": [
      "I hope you enjoyed that lecture o/\n",
      "If you find this post helpful, please click the applause button and subscribe to the page for more articles like this one.\n",
      "Have a Nice Day!\n"
     ]
    }
   ],
   "source": [
    "print(\"I hope you enjoyed that lecture o/\\nIf you find this post helpful, please click the applause button and subscribe to the page for more articles like this one.\\nHave a Nice Day!\")"
   ]
  }
 ],
 "metadata": {
  "kernelspec": {
   "display_name": "Python 3",
   "language": "python",
   "name": "python3"
  },
  "language_info": {
   "codemirror_mode": {
    "name": "ipython",
    "version": 3
   },
   "file_extension": ".py",
   "mimetype": "text/x-python",
   "name": "python",
   "nbconvert_exporter": "python",
   "pygments_lexer": "ipython3",
   "version": "3.8.8"
  }
 },
 "nbformat": 4,
 "nbformat_minor": 5
}
