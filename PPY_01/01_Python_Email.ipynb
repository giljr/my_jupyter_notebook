{
 "cells": [
  {
   "cell_type": "markdown",
   "metadata": {},
   "source": [
    "# Python Integration with Gmail - Using yagmail\n",
    "\n",
    "https://medium.com/jungletronics/send-emails-using-python-jupyter-notebook-94d14a5a5655\n",
    "\n",
    "### SMTP\n",
    "\n",
    "- yagmail.smtp"
   ]
  },
  {
   "cell_type": "raw",
   "metadata": {},
   "source": [
    "user = yagmail.SMTP(user='user@gmail.com', password='password')"
   ]
  },
  {
   "cell_type": "markdown",
   "metadata": {},
   "source": [
    "### .send Method"
   ]
  },
  {
   "cell_type": "raw",
   "metadata": {},
   "source": [
    "user.send(to='recipient', subject='inssue', contents='email content')"
   ]
  },
  {
   "cell_type": "markdown",
   "metadata": {},
   "source": [
    "### Sending Plain E-mail"
   ]
  },
  {
   "cell_type": "code",
   "execution_count": 1,
   "metadata": {},
   "outputs": [],
   "source": [
    "import yagmail\n",
    "\n",
    "user = yagmail.SMTP(user='****@gmail.com', \\\n",
    "                       password='****')"
   ]
  },
  {
   "cell_type": "markdown",
   "metadata": {},
   "source": [
    "### Sending E-mail w/ attachments"
   ]
  },
  {
   "cell_type": "code",
   "execution_count": 2,
   "metadata": {},
   "outputs": [
    {
     "data": {
      "text/plain": [
       "{}"
      ]
     },
     "execution_count": 2,
     "metadata": {},
     "output_type": "execute_result"
    }
   ],
   "source": [
    "user.send(to='****@gmail.com', subject='Financial Report', \\\n",
    "             contents='Dear Administrator,\\nFollow monthly sales report.\\nAtt.,', \\\n",
    "             attachments='01_financial_report.xlsx')"
   ]
  },
  {
   "cell_type": "markdown",
   "metadata": {},
   "source": [
    "### Copy , more than 1 recipient and other variations"
   ]
  },
  {
   "cell_type": "code",
   "execution_count": 3,
   "metadata": {},
   "outputs": [
    {
     "data": {
      "text/plain": [
       "{}"
      ]
     },
     "execution_count": 3,
     "metadata": {},
     "output_type": "execute_result"
    }
   ],
   "source": [
    "user.send(to=['****@gmail.com','****@gmail.com'], \\\n",
    "             subject='Sending for more than 1 recipient and other variations in Python', contents='This email was sent to more than one recipient o/, in a Python List, from Jungletronics!')"
   ]
  },
  {
   "cell_type": "code",
   "execution_count": 4,
   "metadata": {},
   "outputs": [
    {
     "data": {
      "text/plain": [
       "{}"
      ]
     },
     "execution_count": 4,
     "metadata": {},
     "output_type": "execute_result"
    }
   ],
   "source": [
    "user.send(to='****@gmail.com', bcc='****@gmail.com', \\\n",
    "             subject='Sending for more than 1 recipient and other variations in Python', contents='Tthis email was sent to more than one recipient o/, With BCC coppy, from Jungletronics!')"
   ]
  },
  {
   "cell_type": "markdown",
   "metadata": {},
   "source": [
    "### Customizing the text of the email\n",
    "\n",
    "- With plain Python List"
   ]
  },
  {
   "cell_type": "code",
   "execution_count": 5,
   "metadata": {},
   "outputs": [
    {
     "data": {
      "text/plain": [
       "{}"
      ]
     },
     "execution_count": 5,
     "metadata": {},
     "output_type": "execute_result"
    }
   ],
   "source": [
    "# First Method: -> Phrase list\n",
    "\n",
    "name = 'Guido van Rossum - Python Creator o/'\n",
    "\n",
    "email_body = [\n",
    "    'Customer {},'.format(name),\n",
    "    '\\n',\n",
    "    'Customer Address',\n",
    "    '\\n',\n",
    "    'Dear Customer ,',\n",
    "    'Your website is an information portal for current and potential customers.',\n",
    "    'You want to attract web browsers to find and stay on your page.',\n",
    "    'Spending hundreds of dollars on digital campaigns may not result in a big sales increase.',\n",
    "    'Grass Roots Web Optimizer software engages more organic traffic on your website without the expense.',\n",
    "    '\\n',\n",
    "    'We offer three ways to increase sales through online engagement.',\n",
    "    '\\n',\n",
    "    '1 - We produce relevant content that attracts readers.',\n",
    "    '2 - We use 20% more SEO focused topics than the average digital marketing agency.',\n",
    "    '3 - Our optimized web pages track clicks and send you customized daily, weekly, and monthly reports.',\n",
    "    '\\n',  \n",
    "    ' When I started using Grass Roots, I found their analysis so helpful.',\n",
    "    '\\n',\n",
    "    'It showed me where customers were clicking on my page so I knew what was attracting the most attention to my products.',    \n",
    "    '-Cindy Beck, Owner of Lighting Source',\n",
    "    '\\n',\n",
    "    'Our mission is to help businesses increase their online influence to retain and attract new customers.',\n",
    "    '\\n',\n",
    "    'Enter your email and website here and we will send you a free analysis of SEO organic traffic.',\n",
    "    '\\n',\n",
    "    'Set up your annual Grass Roots Web Optimizer software campaign in the next 30 days and your first month of digital optimization is free.',\n",
    "    '\\n',\n",
    "    'Sincerely,',\n",
    "    '\\n',\n",
    "    '\\n',\n",
    "    'JayThree',\n",
    "    'Customer Service Manager',\n",
    "    'Grass Roots Web Optimizer',\n",
    "    '\\n',\n",
    "    'P.S. I hope you will take advantage of this chance to grow your organic traffic and increase sales. Our goal is to help companies like yours thrive.',\n",
    "    '\\n'\n",
    "]\n",
    "\n",
    "# force code to skip lines\n",
    "email_body = '\\n'.join(email_body)\n",
    "\n",
    "\n",
    "user.send(to='****@gmail.com', subject='Phrase List in Python', contents=email_body)\n"
   ]
  },
  {
   "cell_type": "markdown",
   "metadata": {},
   "source": [
    "### Passing the Email by Text Between Three Quotes in Python"
   ]
  },
  {
   "cell_type": "code",
   "execution_count": 6,
   "metadata": {},
   "outputs": [
    {
     "data": {
      "text/plain": [
       "{}"
      ]
     },
     "execution_count": 6,
     "metadata": {},
     "output_type": "execute_result"
    }
   ],
   "source": [
    "email_whole = '''\n",
    "J3 resume:\n",
    "\n",
    "Gilberto Junior\n",
    "Computer Engineering developer\n",
    "****@gmail.com\n",
    "(213) 321-1232\n",
    "Porto Velho - RO, Brazil\n",
    "\n",
    "Experience:\n",
    "\n",
    "PIC developer (2017-present)\n",
    "Programming Inc.\n",
    "\n",
    "Develop new PIC programs to automate complex tasks\n",
    "Write and test new PIC code to use in MikroElectroniks products\n",
    "Manage databases on Oracle\n",
    "PIC / Arduino / Rpi developer (2014-2021)\n",
    "Jungletronics Solutions\n",
    "\n",
    "Certifications:\n",
    "\n",
    "Huawei AI - 2021, Valid through 2024\n",
    "PIC Specialist: Microgenios Inc.\n",
    "\n",
    "Education:\n",
    "\n",
    "Bachelor of Agronomic Engineering - UFV University (1984)\n",
    "\n",
    "Bachelor of Administrative - UA University (2005)\n",
    "\n",
    "Bachelor of Science in computer science— UninterCollege (2020 - 2025)\n",
    "\n",
    "If you want to know about my portfolio, visit https://medium.com/jungletronics or https://medium.com/kidstronics.\n",
    "\n",
    "Thank you!\n",
    "\n",
    "'''\n",
    "\n",
    "\n",
    "user.send(to='****@gmail.com', subject='Passing the Email by Text Between Three Quotes in Python', contents=email_whole)"
   ]
  },
  {
   "cell_type": "markdown",
   "metadata": {},
   "source": [
    "### Passing the Email by HTML tags in Python"
   ]
  },
  {
   "cell_type": "code",
   "execution_count": 7,
   "metadata": {},
   "outputs": [
    {
     "data": {
      "text/plain": [
       "{}"
      ]
     },
     "execution_count": 7,
     "metadata": {},
     "output_type": "execute_result"
    }
   ],
   "source": [
    "email_html = '''\n",
    "<h2>10 Motivational Quotes That Will Inspire You to Succeed:</h2>\n",
    "\n",
    "<p>1. \"To live a creative life, we must lose our fear of being wrong.\" --<em>Anonymous</em></p>\n",
    "\n",
    "<p>2. \"If you are not willing to risk the usual you will have to settle for the ordinary.\" --<em>Jim Rohn</em></p>\n",
    "\n",
    "<p>3. \"All our dreams can come true if we have the courage to pursue them.\" --<em>Walt Disney</em></p>\n",
    "\n",
    "<p>4. \"Good things come to people who wait, but better things come to those who go out and get them.\" --<em>Anonymous</em></p>\n",
    "\n",
    "<p>5. \"Success is walking from failure to failure with no loss of enthusiasm.\" --<em>Winston Churchill</em></p>\n",
    "\n",
    "<p>6. \"Successful entrepreneurs are givers and not takers of positive energy.\" --<em>Anonymous</em></p>\n",
    "\n",
    "<p>7. \"I have not failed. I've just found 10,000 ways that won't work.\" --<em>Thomas A. Edison</em></p>\n",
    "\n",
    "<p>8. \"A successful man is one who can lay a firm foundation with the bricks others have thrown at him.\" --<em>David Brinkley</em></p>\n",
    "\n",
    "<p>9. \"Don't raise your voice, improve your argument.\" --<em>Anonymous</em></p>\n",
    "\n",
    "<p>10. \"The meaning of life is to find your gift. The purpose of life is to give it away.\" --<em>Anonymous</em></p>\n",
    "\n",
    "'''\n",
    "\n",
    "\n",
    "user.send(to='****@gmail.com', subject='Passing the Email by HTML tags in Python', contents=email_html)"
   ]
  },
  {
   "cell_type": "code",
   "execution_count": 8,
   "metadata": {},
   "outputs": [
    {
     "name": "stdout",
     "output_type": "stream",
     "text": [
      "That's it! Thanks For reading! This post How do you automate emails in Python!\n"
     ]
    }
   ],
   "source": [
    "print(\"That's it! Thanks For reading! This post How do you automate emails in Python!\")"
   ]
  }
 ],
 "metadata": {
  "kernelspec": {
   "display_name": "Python 3",
   "language": "python",
   "name": "python3"
  },
  "language_info": {
   "codemirror_mode": {
    "name": "ipython",
    "version": 3
   },
   "file_extension": ".py",
   "mimetype": "text/x-python",
   "name": "python",
   "nbconvert_exporter": "python",
   "pygments_lexer": "ipython3",
   "version": "3.8.8"
  }
 },
 "nbformat": 4,
 "nbformat_minor": 4
}
