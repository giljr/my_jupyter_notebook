{
 "cells": [
  {
   "cell_type": "markdown",
   "id": "d0919fed",
   "metadata": {},
   "source": [
    "### Lambda\n",
    "Simply put, a lambda function is just like any normal python function, except that it has no name when defining it, and it is contained in one line of code. A lambda function evaluates an expression for a given argument. You give the function a value (argument) and then provide the operation (expression) — From TowardsDatascience.com.\n",
    "\n",
    "[Episode 00 - Lambda](https://medium.com/jungletronics/lambda-in-python-421b0c18e825)\n",
    "\n",
    "Let's get started!"
   ]
  },
  {
   "cell_type": "code",
   "execution_count": 1,
   "id": "36f7c48b",
   "metadata": {},
   "outputs": [],
   "source": [
    "def times2(var):\n",
    "  return var*2"
   ]
  },
  {
   "cell_type": "markdown",
   "id": "698126d3",
   "metadata": {},
   "source": [
    "The **times2** function can be written in one line:\n",
    "\n",
    "Rewritting it in one line:"
   ]
  },
  {
   "cell_type": "code",
   "execution_count": 2,
   "id": "99032738",
   "metadata": {},
   "outputs": [],
   "source": [
    "def times2(var):return var*2"
   ]
  },
  {
   "cell_type": "raw",
   "id": "be93f253",
   "metadata": {},
   "source": [
    "times2(var):return var*2"
   ]
  },
  {
   "cell_type": "raw",
   "id": "d1e1078a",
   "metadata": {},
   "source": [
    "lambda(var):return var*2"
   ]
  },
  {
   "cell_type": "raw",
   "id": "d55a0269",
   "metadata": {},
   "source": [
    "lambda var:return var*2"
   ]
  },
  {
   "cell_type": "code",
   "execution_count": 3,
   "id": "a3a4cacb",
   "metadata": {},
   "outputs": [
    {
     "data": {
      "text/plain": [
       "<function __main__.<lambda>(var)>"
      ]
     },
     "execution_count": 3,
     "metadata": {},
     "output_type": "execute_result"
    }
   ],
   "source": [
    "lambda var:var*2"
   ]
  },
  {
   "cell_type": "markdown",
   "id": "e717222d",
   "metadata": {},
   "source": [
    "**It Reads:** \n",
    "\n",
    "lambda takes var and returns var*2."
   ]
  },
  {
   "cell_type": "code",
   "execution_count": 4,
   "id": "0705966c",
   "metadata": {},
   "outputs": [
    {
     "data": {
      "text/plain": [
       "10"
      ]
     },
     "execution_count": 4,
     "metadata": {},
     "output_type": "execute_result"
    }
   ],
   "source": [
    "t2 = lambda var:var*2\n",
    "t2(5)"
   ]
  },
  {
   "cell_type": "markdown",
   "id": "8effccaf",
   "metadata": {},
   "source": [
    "That is not usual for lambda, but it is a feasible use (saving lambda times2 to var t2) 👍"
   ]
  },
  {
   "cell_type": "markdown",
   "id": "68f33797",
   "metadata": {},
   "source": [
    "#### MAP"
   ]
  },
  {
   "cell_type": "code",
   "execution_count": 5,
   "id": "8f1a564c",
   "metadata": {},
   "outputs": [
    {
     "data": {
      "text/plain": [
       "<map at 0x19ae8fbd7c0>"
      ]
     },
     "execution_count": 5,
     "metadata": {},
     "output_type": "execute_result"
    }
   ],
   "source": [
    "seq = [1,2,3,4,5]\n",
    "map(lambda var:var*2, seq)"
   ]
  },
  {
   "cell_type": "code",
   "execution_count": 6,
   "id": "3aa31c76",
   "metadata": {},
   "outputs": [
    {
     "data": {
      "text/plain": [
       "[2, 4, 6, 8, 10]"
      ]
     },
     "execution_count": 6,
     "metadata": {},
     "output_type": "execute_result"
    }
   ],
   "source": [
    "list(map(lambda var:var*2, seq))"
   ]
  },
  {
   "cell_type": "code",
   "execution_count": 7,
   "id": "c1dc4094",
   "metadata": {},
   "outputs": [
    {
     "name": "stdout",
     "output_type": "stream",
     "text": [
      "[2, 4, 6, 8, 10]\n"
     ]
    }
   ],
   "source": [
    "seq = [1,2,3,4,5]\n",
    "print(list(map(lambda var:var*2, seq)))"
   ]
  },
  {
   "cell_type": "code",
   "execution_count": 8,
   "id": "5fefbd30",
   "metadata": {},
   "outputs": [
    {
     "name": "stdout",
     "output_type": "stream",
     "text": [
      "That's All Folks! See you in the next Pure Python Series ✌✌\n"
     ]
    }
   ],
   "source": [
    "print(\"That's All Folks! See you in the next Pure Python Series ✌✌\")"
   ]
  }
 ],
 "metadata": {
  "kernelspec": {
   "display_name": "Python 3 (ipykernel)",
   "language": "python",
   "name": "python3"
  },
  "language_info": {
   "codemirror_mode": {
    "name": "ipython",
    "version": 3
   },
   "file_extension": ".py",
   "mimetype": "text/x-python",
   "name": "python",
   "nbconvert_exporter": "python",
   "pygments_lexer": "ipython3",
   "version": "3.9.7"
  }
 },
 "nbformat": 4,
 "nbformat_minor": 5
}
