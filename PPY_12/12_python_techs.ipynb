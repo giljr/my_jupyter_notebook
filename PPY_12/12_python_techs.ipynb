{
 "cells": [
  {
   "cell_type": "markdown",
   "id": "62a0f4c3",
   "metadata": {},
   "source": [
    "# Advanced Python Technologies\n",
    "## qrcode, Speech Recognition in Python, Google Speech Recognition"
   ]
  },
  {
   "cell_type": "markdown",
   "id": "4fa503f7",
   "metadata": {},
   "source": [
    "## Tech 1 # qrcode\n",
    "visit: https://pypi.org/project/qrcode/\n",
    "\n",
    "What is a QR Code?\n",
    "\n",
    "A Quick Response code is a two-dimensional pictographic code used for its fast readability and comparatively large storage capacity"
   ]
  },
  {
   "cell_type": "markdown",
   "id": "3f46d0d6",
   "metadata": {},
   "source": [
    "#### In the code below: \n",
    "\n",
    "First we install qrcode directly from jupyter notebook.\n",
    "\n",
    "Then, after importing the lib, we generate a qrcode, and save it as PNG - Portable Network Graphics"
   ]
  },
  {
   "cell_type": "code",
   "execution_count": 1,
   "id": "bb914bf4-8655-47c1-8fde-211b3609461b",
   "metadata": {},
   "outputs": [
    {
     "name": "stdout",
     "output_type": "stream",
     "text": [
      "Collecting qrcode\n",
      "  Downloading qrcode-7.3.1.tar.gz (43 kB)\n",
      "     -------------------------------------- 43.5/43.5 kB 353.8 kB/s eta 0:00:00\n",
      "  Preparing metadata (setup.py): started\n",
      "  Preparing metadata (setup.py): finished with status 'done'\n",
      "Requirement already satisfied: colorama in c:\\users\\giljr\\appdata\\roaming\\python\\python39\\site-packages (from qrcode) (0.4.4)\n",
      "Building wheels for collected packages: qrcode\n",
      "  Building wheel for qrcode (setup.py): started\n",
      "  Building wheel for qrcode (setup.py): finished with status 'done'\n",
      "  Created wheel for qrcode: filename=qrcode-7.3.1-py3-none-any.whl size=40401 sha256=21157d8580f2ede48dc47666675f5a87ae0c15d4aeb7b102d281040a35194f18\n",
      "  Stored in directory: c:\\users\\giljr\\appdata\\local\\pip\\cache\\wheels\\72\\8d\\d4\\18b60cd6cda7fd6832229ded41aa505cee22e22f7f47ea97ea\n",
      "Successfully built qrcode\n",
      "Installing collected packages: qrcode\n",
      "Successfully installed qrcode-7.3.1\n"
     ]
    }
   ],
   "source": [
    "!pip install qrcode"
   ]
  },
  {
   "cell_type": "code",
   "execution_count": 9,
   "id": "40920d8d-2cba-4049-bf02-480cb83c574b",
   "metadata": {},
   "outputs": [
    {
     "data": {
      "text/plain": [
       "1"
      ]
     },
     "execution_count": 9,
     "metadata": {},
     "output_type": "execute_result"
    }
   ],
   "source": [
    "import os\n",
    "import qrcode\n",
    "\n",
    "# Generate QR code\n",
    "img = qrcode.make(\"https://medium.com/jungletronics\")\n",
    "\n",
    "# Save as file\n",
    "img.save(\"qr.png\", \"PNG\")\n",
    "\n",
    "# Open file\n",
    "os.system(\"open qr.png\")"
   ]
  },
  {
   "cell_type": "markdown",
   "id": "1f2d6f3b",
   "metadata": {},
   "source": [
    "## Tech 2 # Simplified Answering Machine"
   ]
  },
  {
   "cell_type": "markdown",
   "id": "7940a3d1",
   "metadata": {},
   "source": [
    "\n",
    "To test it please run as much as you like!\n",
    "\n",
    "Three words or sets of words must exist in the sentence spoken and captured by the microphone:\n",
    "\n",
    "\"HELLO\"\n",
    "\n",
    "\"HOW ARE YOU\"\n",
    "\n",
    "\"GOODBYE\"\n",
    "\n",
    "And wait for the answer 😉"
   ]
  },
  {
   "cell_type": "code",
   "execution_count": 3,
   "id": "8feefc50-2b86-49f6-9917-72043774c577",
   "metadata": {},
   "outputs": [
    {
     "name": "stdout",
     "output_type": "stream",
     "text": [
      "Say something!\n",
      "hello\n",
      "Hello to you too!\n"
     ]
    }
   ],
   "source": [
    "# Recognizes a greeting\n",
    "\n",
    "# Get input\n",
    "words = input(\"Say something!\\n\").lower()\n",
    "\n",
    "# Respond to speech\n",
    "if \"hello\" in words:\n",
    "    print(\"Hello to you too!\")\n",
    "elif \"how are you\" in words:\n",
    "    print(\"I am well, thanks!\")\n",
    "elif \"goodbye\" in words:\n",
    "    print(\"Goodbye to you too!\")\n",
    "else:\n",
    "    print(\"Huh?\")\n"
   ]
  },
  {
   "cell_type": "markdown",
   "id": "6c04cfb6",
   "metadata": {},
   "source": [
    "## Tech 3 #  Speech Recognition in Python"
   ]
  },
  {
   "cell_type": "markdown",
   "id": "0ca98f7f",
   "metadata": {},
   "source": [
    "There are several technologies available on the market. Let's bring the google solution, shall we?\n",
    "\n",
    "__How to Convert Speech to Text in Python__\n",
    "\n",
    "CMU Sphinx (offline)\n",
    "\n",
    "**Google Speech Recognition**\n",
    "\n",
    "Google Cloud Speech API\n",
    "\n",
    "Wit.ai\n",
    "\n",
    "Microsoft Bing Voice Recognition\n",
    "\n",
    "Houndify API\n",
    "\n",
    "IBM Speech To Text\n",
    "\n",
    "Snowboy Hotword Detection (offline)"
   ]
  },
  {
   "cell_type": "markdown",
   "id": "cbf5ec59",
   "metadata": {},
   "source": [
    "#### In the code below: \n",
    "\n",
    "First we install [pyaudio](https:/pypi.org/project/PyAudio/) and [SpeechRecognitions](https:/pypi.org/project/SpeechRecognition/) from google.\n",
    "\n",
    "Then, obtain audio from the microphone.\n",
    "\n",
    "And finaly, Recognize speech using Google Speech Recognition\n",
    "\n",
    "Say something and wait the answer 👈\n",
    "\n"
   ]
  },
  {
   "cell_type": "code",
   "execution_count": 4,
   "id": "09de1eca-4c7f-4453-b181-e6679f8c4090",
   "metadata": {},
   "outputs": [
    {
     "name": "stdout",
     "output_type": "stream",
     "text": [
      "Collecting pyaudio\n",
      "  Using cached PyAudio-0.2.12-cp39-cp39-win_amd64.whl (163 kB)\n",
      "Installing collected packages: pyaudio\n",
      "Successfully installed pyaudio-0.2.12\n",
      "Collecting SpeechRecognition\n",
      "  Using cached SpeechRecognition-3.8.1-py2.py3-none-any.whl (32.8 MB)\n",
      "Installing collected packages: SpeechRecognition\n",
      "Successfully installed SpeechRecognition-3.8.1\n"
     ]
    }
   ],
   "source": [
    "!pip install pyaudio\n",
    "!pip install SpeechRecognition"
   ]
  },
  {
   "cell_type": "code",
   "execution_count": 5,
   "id": "4d15598d-7d73-4b41-8350-0009c554af8e",
   "metadata": {},
   "outputs": [
    {
     "name": "stdout",
     "output_type": "stream",
     "text": [
      "Say something:\n",
      "You said:\n",
      "Shoe Stop\n"
     ]
    }
   ],
   "source": [
    "import speech_recognition\n",
    "\n",
    "# Obtain audio from the microphone\n",
    "recognizer = speech_recognition.Recognizer()\n",
    "with speech_recognition.Microphone() as source:\n",
    "    print(\"Say something:\")\n",
    "    audio = recognizer.listen(source)\n",
    "\n",
    "# Recognize speech using Google Speech Recognition\n",
    "print(\"You said:\")\n",
    "print(recognizer.recognize_google(audio))"
   ]
  },
  {
   "cell_type": "markdown",
   "id": "e51c6020",
   "metadata": {},
   "source": [
    "### Here we mixed the two codes above and see what happened!"
   ]
  },
  {
   "cell_type": "markdown",
   "id": "68277507",
   "metadata": {},
   "source": [
    "To test it please run as much as you like!\n",
    "\n",
    "Three words or sets of words must exist in the sentence spoken and captured by the microphone:\n",
    "\n",
    "\"HELLO\"\n",
    "\n",
    "\"HOW ARE YOU\"\n",
    "\n",
    "\"GOODBYE\""
   ]
  },
  {
   "cell_type": "code",
   "execution_count": 7,
   "id": "3953040d-f928-49be-9e56-1bc277bde244",
   "metadata": {},
   "outputs": [
    {
     "name": "stdout",
     "output_type": "stream",
     "text": [
      "Say something:\n",
      "Goodbye to you too!\n"
     ]
    }
   ],
   "source": [
    "import speech_recognition\n",
    "\n",
    "# Obtain audio from the microphone\n",
    "recognizer = speech_recognition.Recognizer()\n",
    "with speech_recognition.Microphone() as source:\n",
    "    print(\"Say something:\")\n",
    "    audio = recognizer.listen(source)\n",
    "\n",
    "# Recognize speech using Google Speech Recognition\n",
    "words = recognizer.recognize_google(audio)\n",
    "\n",
    "# Respond to speech\n",
    "if \"hello\" in words:\n",
    "    print(\"Hello to you too!\")\n",
    "elif \"how are you\" in words:\n",
    "    print(\"I am well, thanks!\")\n",
    "elif \"goodbye\" in words:\n",
    "    print(\"Goodbye to you too!\")\n",
    "else:\n",
    "    print(\"Huh?\")\n"
   ]
  },
  {
   "cell_type": "markdown",
   "id": "fcb49afb",
   "metadata": {},
   "source": [
    "### Now  say what's your name"
   ]
  },
  {
   "cell_type": "code",
   "execution_count": 8,
   "id": "62eeb3c6-e2ae-4aba-ac94-32ae119ea4a9",
   "metadata": {},
   "outputs": [
    {
     "name": "stdout",
     "output_type": "stream",
     "text": [
      "Say something:\n",
      "Hey, J-3.\n"
     ]
    }
   ],
   "source": [
    "import re\n",
    "import speech_recognition\n",
    "\n",
    "# Obtain audio from the microphone\n",
    "recognizer = speech_recognition.Recognizer()\n",
    "with speech_recognition.Microphone() as source:\n",
    "    print(\"Say something:\")\n",
    "    audio = recognizer.listen(source)\n",
    "\n",
    "# Recognize speech using Google Speech Recognition\n",
    "words = recognizer.recognize_google(audio)\n",
    "\n",
    "# Respond to speech\n",
    "matches = re.search(\"my name is (.*)\", words)\n",
    "if matches:\n",
    "    print(f\"Hey, {matches[1]}.\")\n",
    "else:\n",
    "    print(\"Hey, you.\")"
   ]
  },
  {
   "cell_type": "markdown",
   "id": "eb1baaf5",
   "metadata": {},
   "source": [
    "## Tech 4 # Speech Recognition in Python"
   ]
  },
  {
   "cell_type": "markdown",
   "id": "6e65be75",
   "metadata": {},
   "source": [
    "visit: https://pypi.org/project/pyttsx3/\n",
    "\n",
    "It Supports multiple TTS engines, including Sapi5, nsss, and espeak."
   ]
  },
  {
   "cell_type": "code",
   "execution_count": 9,
   "id": "1e3739fe-1f74-4924-b73c-fcf25725b2c6",
   "metadata": {},
   "outputs": [
    {
     "name": "stdout",
     "output_type": "stream",
     "text": [
      "Requirement already satisfied: pyttsx3 in c:\\users\\giljr\\anaconda3\\lib\\site-packages (2.90)\n",
      "Requirement already satisfied: comtypes in c:\\users\\giljr\\anaconda3\\lib\\site-packages (from pyttsx3) (1.1.10)\n",
      "Requirement already satisfied: pypiwin32 in c:\\users\\giljr\\anaconda3\\lib\\site-packages (from pyttsx3) (223)\n",
      "Requirement already satisfied: pywin32 in c:\\users\\giljr\\appdata\\roaming\\python\\python39\\site-packages (from pyttsx3) (303)\n"
     ]
    }
   ],
   "source": [
    "!pip install pyttsx3\n"
   ]
  },
  {
   "cell_type": "code",
   "execution_count": 10,
   "id": "7a1b8bc2-c0e1-4e83-ad58-e2077265afde",
   "metadata": {},
   "outputs": [],
   "source": [
    "import pyttsx3\n",
    "\n",
    "engine = pyttsx3.init()\n",
    "engine.say(\"hello, world\")\n",
    "engine.runAndWait()\n"
   ]
  },
  {
   "cell_type": "code",
   "execution_count": 11,
   "id": "24f28716-fcb2-4e4d-9bca-9f1c889a228a",
   "metadata": {},
   "outputs": [
    {
     "name": "stdout",
     "output_type": "stream",
     "text": [
      "What's your name? j3\n"
     ]
    }
   ],
   "source": [
    "import pyttsx3\n",
    "\n",
    "engine = pyttsx3.init()\n",
    "name = input(\"What's your name? \")\n",
    "engine.say(f\"hello, {name}\")\n",
    "engine.runAndWait()\n"
   ]
  },
  {
   "cell_type": "code",
   "execution_count": 6,
   "id": "c933f038-bbc0-469c-bf3f-4b502926ddbd",
   "metadata": {},
   "outputs": [],
   "source": [
    "import pyttsx3\n",
    "\n",
    "engine = pyttsx3.init()\n",
    "engine.say(\"This was CS50\")\n",
    "engine.say(\"That's it!\")\n",
    "engine.say(\"Thanks to: DAVID MALAN from HAVARD CS50 COURSE\")\n",
    "engine.runAndWait()"
   ]
  },
  {
   "cell_type": "code",
   "execution_count": 8,
   "id": "5326036e-e88b-4b35-a1cb-d810745cd4e9",
   "metadata": {},
   "outputs": [
    {
     "name": "stdout",
     "output_type": "stream",
     "text": [
      "Credits Goes To: HAVARD CS50 COURSE - DAVID MALAN - https://youtu.be/d6ZcOxZYh4Y\n"
     ]
    }
   ],
   "source": [
    "print(\"Credits Goes To: HAVARD CS50 COURSE - DAVID MALAN - https://youtu.be/d6ZcOxZYh4Y\")"
   ]
  }
 ],
 "metadata": {
  "kernelspec": {
   "display_name": "Python 3 (ipykernel)",
   "language": "python",
   "name": "python3"
  },
  "language_info": {
   "codemirror_mode": {
    "name": "ipython",
    "version": 3
   },
   "file_extension": ".py",
   "mimetype": "text/x-python",
   "name": "python",
   "nbconvert_exporter": "python",
   "pygments_lexer": "ipython3",
   "version": "3.9.7"
  }
 },
 "nbformat": 4,
 "nbformat_minor": 5
}
